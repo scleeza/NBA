{
 "cells": [
  {
   "cell_type": "code",
   "execution_count": 282,
   "metadata": {},
   "outputs": [],
   "source": [
    "import pandas as pd \n",
    "import numpy as np\n",
    "from tqdm import tqdm\n",
    "import pickle\n",
    "import matplotlib.pyplot as plt\n",
    "import seaborn as sns"
   ]
  },
  {
   "cell_type": "markdown",
   "metadata": {},
   "source": [
    "## Merging Data"
   ]
  },
  {
   "cell_type": "code",
   "execution_count": 309,
   "metadata": {},
   "outputs": [
    {
     "data": {
      "text/html": [
       "<div>\n",
       "<style scoped>\n",
       "    .dataframe tbody tr th:only-of-type {\n",
       "        vertical-align: middle;\n",
       "    }\n",
       "\n",
       "    .dataframe tbody tr th {\n",
       "        vertical-align: top;\n",
       "    }\n",
       "\n",
       "    .dataframe thead th {\n",
       "        text-align: right;\n",
       "    }\n",
       "</style>\n",
       "<table border=\"1\" class=\"dataframe\">\n",
       "  <thead>\n",
       "    <tr style=\"text-align: right;\">\n",
       "      <th></th>\n",
       "      <th>PLAYER_ID</th>\n",
       "      <th>SEASON_ID</th>\n",
       "      <th>LEAGUE_ID</th>\n",
       "      <th>TEAM_ID</th>\n",
       "      <th>TEAM_ABBREVIATION</th>\n",
       "      <th>PLAYER_AGE</th>\n",
       "      <th>GP</th>\n",
       "      <th>GS</th>\n",
       "      <th>MIN</th>\n",
       "      <th>FGM</th>\n",
       "      <th>...</th>\n",
       "      <th>FT_PCT</th>\n",
       "      <th>OREB</th>\n",
       "      <th>DREB</th>\n",
       "      <th>REB</th>\n",
       "      <th>AST</th>\n",
       "      <th>STL</th>\n",
       "      <th>BLK</th>\n",
       "      <th>TOV</th>\n",
       "      <th>PF</th>\n",
       "      <th>PTS</th>\n",
       "    </tr>\n",
       "  </thead>\n",
       "  <tbody>\n",
       "    <tr>\n",
       "      <th>0</th>\n",
       "      <td>51</td>\n",
       "      <td>1990-91</td>\n",
       "      <td>00</td>\n",
       "      <td>1610612743</td>\n",
       "      <td>DEN</td>\n",
       "      <td>22.0</td>\n",
       "      <td>67</td>\n",
       "      <td>19</td>\n",
       "      <td>1505.0</td>\n",
       "      <td>417</td>\n",
       "      <td>...</td>\n",
       "      <td>0.857</td>\n",
       "      <td>34</td>\n",
       "      <td>87</td>\n",
       "      <td>121</td>\n",
       "      <td>206</td>\n",
       "      <td>55</td>\n",
       "      <td>4</td>\n",
       "      <td>110</td>\n",
       "      <td>149</td>\n",
       "      <td>942</td>\n",
       "    </tr>\n",
       "    <tr>\n",
       "      <th>1</th>\n",
       "      <td>51</td>\n",
       "      <td>1991-92</td>\n",
       "      <td>00</td>\n",
       "      <td>1610612743</td>\n",
       "      <td>DEN</td>\n",
       "      <td>23.0</td>\n",
       "      <td>81</td>\n",
       "      <td>11</td>\n",
       "      <td>1538.0</td>\n",
       "      <td>356</td>\n",
       "      <td>...</td>\n",
       "      <td>0.870</td>\n",
       "      <td>22</td>\n",
       "      <td>92</td>\n",
       "      <td>114</td>\n",
       "      <td>192</td>\n",
       "      <td>44</td>\n",
       "      <td>4</td>\n",
       "      <td>117</td>\n",
       "      <td>130</td>\n",
       "      <td>837</td>\n",
       "    </tr>\n",
       "    <tr>\n",
       "      <th>2</th>\n",
       "      <td>51</td>\n",
       "      <td>1992-93</td>\n",
       "      <td>00</td>\n",
       "      <td>1610612743</td>\n",
       "      <td>DEN</td>\n",
       "      <td>24.0</td>\n",
       "      <td>81</td>\n",
       "      <td>81</td>\n",
       "      <td>2710.0</td>\n",
       "      <td>633</td>\n",
       "      <td>...</td>\n",
       "      <td>0.935</td>\n",
       "      <td>51</td>\n",
       "      <td>174</td>\n",
       "      <td>225</td>\n",
       "      <td>344</td>\n",
       "      <td>84</td>\n",
       "      <td>8</td>\n",
       "      <td>187</td>\n",
       "      <td>179</td>\n",
       "      <td>1553</td>\n",
       "    </tr>\n",
       "    <tr>\n",
       "      <th>3</th>\n",
       "      <td>51</td>\n",
       "      <td>1993-94</td>\n",
       "      <td>00</td>\n",
       "      <td>1610612743</td>\n",
       "      <td>DEN</td>\n",
       "      <td>25.0</td>\n",
       "      <td>80</td>\n",
       "      <td>78</td>\n",
       "      <td>2617.0</td>\n",
       "      <td>588</td>\n",
       "      <td>...</td>\n",
       "      <td>0.956</td>\n",
       "      <td>27</td>\n",
       "      <td>141</td>\n",
       "      <td>168</td>\n",
       "      <td>362</td>\n",
       "      <td>82</td>\n",
       "      <td>10</td>\n",
       "      <td>151</td>\n",
       "      <td>150</td>\n",
       "      <td>1437</td>\n",
       "    </tr>\n",
       "    <tr>\n",
       "      <th>4</th>\n",
       "      <td>51</td>\n",
       "      <td>1994-95</td>\n",
       "      <td>00</td>\n",
       "      <td>1610612743</td>\n",
       "      <td>DEN</td>\n",
       "      <td>26.0</td>\n",
       "      <td>73</td>\n",
       "      <td>43</td>\n",
       "      <td>2082.0</td>\n",
       "      <td>472</td>\n",
       "      <td>...</td>\n",
       "      <td>0.885</td>\n",
       "      <td>32</td>\n",
       "      <td>105</td>\n",
       "      <td>137</td>\n",
       "      <td>263</td>\n",
       "      <td>77</td>\n",
       "      <td>9</td>\n",
       "      <td>119</td>\n",
       "      <td>126</td>\n",
       "      <td>1165</td>\n",
       "    </tr>\n",
       "    <tr>\n",
       "      <th>...</th>\n",
       "      <td>...</td>\n",
       "      <td>...</td>\n",
       "      <td>...</td>\n",
       "      <td>...</td>\n",
       "      <td>...</td>\n",
       "      <td>...</td>\n",
       "      <td>...</td>\n",
       "      <td>...</td>\n",
       "      <td>...</td>\n",
       "      <td>...</td>\n",
       "      <td>...</td>\n",
       "      <td>...</td>\n",
       "      <td>...</td>\n",
       "      <td>...</td>\n",
       "      <td>...</td>\n",
       "      <td>...</td>\n",
       "      <td>...</td>\n",
       "      <td>...</td>\n",
       "      <td>...</td>\n",
       "      <td>...</td>\n",
       "      <td>...</td>\n",
       "    </tr>\n",
       "    <tr>\n",
       "      <th>15073</th>\n",
       "      <td>203092</td>\n",
       "      <td>2017-18</td>\n",
       "      <td>00</td>\n",
       "      <td>0</td>\n",
       "      <td>TOT</td>\n",
       "      <td>28.0</td>\n",
       "      <td>66</td>\n",
       "      <td>34</td>\n",
       "      <td>1108.0</td>\n",
       "      <td>187</td>\n",
       "      <td>...</td>\n",
       "      <td>0.722</td>\n",
       "      <td>110</td>\n",
       "      <td>195</td>\n",
       "      <td>305</td>\n",
       "      <td>47</td>\n",
       "      <td>15</td>\n",
       "      <td>35</td>\n",
       "      <td>47</td>\n",
       "      <td>126</td>\n",
       "      <td>441</td>\n",
       "    </tr>\n",
       "    <tr>\n",
       "      <th>15074</th>\n",
       "      <td>203092</td>\n",
       "      <td>2018-19</td>\n",
       "      <td>00</td>\n",
       "      <td>1610612737</td>\n",
       "      <td>ATL</td>\n",
       "      <td>29.0</td>\n",
       "      <td>2</td>\n",
       "      <td>0</td>\n",
       "      <td>11.0</td>\n",
       "      <td>0</td>\n",
       "      <td>...</td>\n",
       "      <td>0.000</td>\n",
       "      <td>2</td>\n",
       "      <td>4</td>\n",
       "      <td>6</td>\n",
       "      <td>1</td>\n",
       "      <td>0</td>\n",
       "      <td>0</td>\n",
       "      <td>0</td>\n",
       "      <td>4</td>\n",
       "      <td>0</td>\n",
       "    </tr>\n",
       "    <tr>\n",
       "      <th>15075</th>\n",
       "      <td>203092</td>\n",
       "      <td>2018-19</td>\n",
       "      <td>00</td>\n",
       "      <td>1610612763</td>\n",
       "      <td>MEM</td>\n",
       "      <td>29.0</td>\n",
       "      <td>4</td>\n",
       "      <td>1</td>\n",
       "      <td>82.0</td>\n",
       "      <td>16</td>\n",
       "      <td>...</td>\n",
       "      <td>0.778</td>\n",
       "      <td>9</td>\n",
       "      <td>9</td>\n",
       "      <td>18</td>\n",
       "      <td>3</td>\n",
       "      <td>1</td>\n",
       "      <td>3</td>\n",
       "      <td>4</td>\n",
       "      <td>16</td>\n",
       "      <td>46</td>\n",
       "    </tr>\n",
       "    <tr>\n",
       "      <th>15076</th>\n",
       "      <td>203092</td>\n",
       "      <td>2018-19</td>\n",
       "      <td>00</td>\n",
       "      <td>0</td>\n",
       "      <td>TOT</td>\n",
       "      <td>29.0</td>\n",
       "      <td>6</td>\n",
       "      <td>1</td>\n",
       "      <td>93.0</td>\n",
       "      <td>16</td>\n",
       "      <td>...</td>\n",
       "      <td>0.778</td>\n",
       "      <td>11</td>\n",
       "      <td>13</td>\n",
       "      <td>24</td>\n",
       "      <td>4</td>\n",
       "      <td>1</td>\n",
       "      <td>3</td>\n",
       "      <td>4</td>\n",
       "      <td>20</td>\n",
       "      <td>46</td>\n",
       "    </tr>\n",
       "    <tr>\n",
       "      <th>15077</th>\n",
       "      <td>203092</td>\n",
       "      <td>2019-20</td>\n",
       "      <td>00</td>\n",
       "      <td>1610612759</td>\n",
       "      <td>SAS</td>\n",
       "      <td>30.0</td>\n",
       "      <td>2</td>\n",
       "      <td>0</td>\n",
       "      <td>4.0</td>\n",
       "      <td>1</td>\n",
       "      <td>...</td>\n",
       "      <td>0.000</td>\n",
       "      <td>3</td>\n",
       "      <td>1</td>\n",
       "      <td>4</td>\n",
       "      <td>0</td>\n",
       "      <td>0</td>\n",
       "      <td>0</td>\n",
       "      <td>0</td>\n",
       "      <td>0</td>\n",
       "      <td>2</td>\n",
       "    </tr>\n",
       "  </tbody>\n",
       "</table>\n",
       "<p>15078 rows × 27 columns</p>\n",
       "</div>"
      ],
      "text/plain": [
       "      PLAYER_ID SEASON_ID LEAGUE_ID     TEAM_ID TEAM_ABBREVIATION  PLAYER_AGE  \\\n",
       "0            51   1990-91        00  1610612743               DEN        22.0   \n",
       "1            51   1991-92        00  1610612743               DEN        23.0   \n",
       "2            51   1992-93        00  1610612743               DEN        24.0   \n",
       "3            51   1993-94        00  1610612743               DEN        25.0   \n",
       "4            51   1994-95        00  1610612743               DEN        26.0   \n",
       "...         ...       ...       ...         ...               ...         ...   \n",
       "15073    203092   2017-18        00           0               TOT        28.0   \n",
       "15074    203092   2018-19        00  1610612737               ATL        29.0   \n",
       "15075    203092   2018-19        00  1610612763               MEM        29.0   \n",
       "15076    203092   2018-19        00           0               TOT        29.0   \n",
       "15077    203092   2019-20        00  1610612759               SAS        30.0   \n",
       "\n",
       "       GP  GS     MIN  FGM  ... FT_PCT  OREB DREB  REB  AST STL BLK  TOV   PF  \\\n",
       "0      67  19  1505.0  417  ...  0.857    34   87  121  206  55   4  110  149   \n",
       "1      81  11  1538.0  356  ...  0.870    22   92  114  192  44   4  117  130   \n",
       "2      81  81  2710.0  633  ...  0.935    51  174  225  344  84   8  187  179   \n",
       "3      80  78  2617.0  588  ...  0.956    27  141  168  362  82  10  151  150   \n",
       "4      73  43  2082.0  472  ...  0.885    32  105  137  263  77   9  119  126   \n",
       "...    ..  ..     ...  ...  ...    ...   ...  ...  ...  ...  ..  ..  ...  ...   \n",
       "15073  66  34  1108.0  187  ...  0.722   110  195  305   47  15  35   47  126   \n",
       "15074   2   0    11.0    0  ...  0.000     2    4    6    1   0   0    0    4   \n",
       "15075   4   1    82.0   16  ...  0.778     9    9   18    3   1   3    4   16   \n",
       "15076   6   1    93.0   16  ...  0.778    11   13   24    4   1   3    4   20   \n",
       "15077   2   0     4.0    1  ...  0.000     3    1    4    0   0   0    0    0   \n",
       "\n",
       "        PTS  \n",
       "0       942  \n",
       "1       837  \n",
       "2      1553  \n",
       "3      1437  \n",
       "4      1165  \n",
       "...     ...  \n",
       "15073   441  \n",
       "15074     0  \n",
       "15075    46  \n",
       "15076    46  \n",
       "15077     2  \n",
       "\n",
       "[15078 rows x 27 columns]"
      ]
     },
     "execution_count": 309,
     "metadata": {},
     "output_type": "execute_result"
    }
   ],
   "source": [
    "players_stats = pd.read_pickle(\"player_stats.pkl\")\n",
    "teams_stats= pd.read_pickle(\"teams_stats.pkl\")\n",
    "players_awards = pd.read_pickle(\"players_awards.pkl\")\n",
    "\n",
    "players_stats"
   ]
  },
  {
   "cell_type": "code",
   "execution_count": 310,
   "metadata": {},
   "outputs": [],
   "source": [
    "teams_stats.rename(columns={'YEAR':'SEASON_ID'},inplace=True)"
   ]
  },
  {
   "cell_type": "code",
   "execution_count": 311,
   "metadata": {},
   "outputs": [],
   "source": [
    "players_teams = players_stats.merge(teams_stats,how='inner',on=['TEAM_ID','SEASON_ID'],suffixes=('_player','_team'))"
   ]
  },
  {
   "cell_type": "code",
   "execution_count": 312,
   "metadata": {},
   "outputs": [
    {
     "data": {
      "text/html": [
       "<div>\n",
       "<style scoped>\n",
       "    .dataframe tbody tr th:only-of-type {\n",
       "        vertical-align: middle;\n",
       "    }\n",
       "\n",
       "    .dataframe tbody tr th {\n",
       "        vertical-align: top;\n",
       "    }\n",
       "\n",
       "    .dataframe thead th {\n",
       "        text-align: right;\n",
       "    }\n",
       "</style>\n",
       "<table border=\"1\" class=\"dataframe\">\n",
       "  <thead>\n",
       "    <tr style=\"text-align: right;\">\n",
       "      <th></th>\n",
       "      <th>PLAYER_ID</th>\n",
       "      <th>SEASON_ID</th>\n",
       "      <th>LEAGUE_ID</th>\n",
       "      <th>TEAM_ID</th>\n",
       "      <th>TEAM_ABBREVIATION</th>\n",
       "      <th>PLAYER_AGE</th>\n",
       "      <th>GP_player</th>\n",
       "      <th>GS</th>\n",
       "      <th>MIN</th>\n",
       "      <th>FGM_player</th>\n",
       "      <th>...</th>\n",
       "      <th>OREB_team</th>\n",
       "      <th>DREB_team</th>\n",
       "      <th>REB_team</th>\n",
       "      <th>AST_team</th>\n",
       "      <th>PF_team</th>\n",
       "      <th>STL_team</th>\n",
       "      <th>TOV_team</th>\n",
       "      <th>BLK_team</th>\n",
       "      <th>PTS_team</th>\n",
       "      <th>PTS_RANK</th>\n",
       "    </tr>\n",
       "  </thead>\n",
       "  <tbody>\n",
       "    <tr>\n",
       "      <th>0</th>\n",
       "      <td>51</td>\n",
       "      <td>1990-91</td>\n",
       "      <td>00</td>\n",
       "      <td>1610612743</td>\n",
       "      <td>DEN</td>\n",
       "      <td>22.0</td>\n",
       "      <td>67</td>\n",
       "      <td>19</td>\n",
       "      <td>1505.0</td>\n",
       "      <td>417</td>\n",
       "      <td>...</td>\n",
       "      <td>1520</td>\n",
       "      <td>2530</td>\n",
       "      <td>4050</td>\n",
       "      <td>2005</td>\n",
       "      <td>2235</td>\n",
       "      <td>856</td>\n",
       "      <td>1332</td>\n",
       "      <td>406</td>\n",
       "      <td>9828</td>\n",
       "      <td>1</td>\n",
       "    </tr>\n",
       "    <tr>\n",
       "      <th>1</th>\n",
       "      <td>422</td>\n",
       "      <td>1990-91</td>\n",
       "      <td>00</td>\n",
       "      <td>1610612743</td>\n",
       "      <td>DEN</td>\n",
       "      <td>26.0</td>\n",
       "      <td>21</td>\n",
       "      <td>4</td>\n",
       "      <td>217.0</td>\n",
       "      <td>29</td>\n",
       "      <td>...</td>\n",
       "      <td>1520</td>\n",
       "      <td>2530</td>\n",
       "      <td>4050</td>\n",
       "      <td>2005</td>\n",
       "      <td>2235</td>\n",
       "      <td>856</td>\n",
       "      <td>1332</td>\n",
       "      <td>406</td>\n",
       "      <td>9828</td>\n",
       "      <td>1</td>\n",
       "    </tr>\n",
       "    <tr>\n",
       "      <th>2</th>\n",
       "      <td>193</td>\n",
       "      <td>1990-91</td>\n",
       "      <td>00</td>\n",
       "      <td>1610612743</td>\n",
       "      <td>DEN</td>\n",
       "      <td>24.0</td>\n",
       "      <td>3</td>\n",
       "      <td>0</td>\n",
       "      <td>21.0</td>\n",
       "      <td>2</td>\n",
       "      <td>...</td>\n",
       "      <td>1520</td>\n",
       "      <td>2530</td>\n",
       "      <td>4050</td>\n",
       "      <td>2005</td>\n",
       "      <td>2235</td>\n",
       "      <td>856</td>\n",
       "      <td>1332</td>\n",
       "      <td>406</td>\n",
       "      <td>9828</td>\n",
       "      <td>1</td>\n",
       "    </tr>\n",
       "    <tr>\n",
       "      <th>3</th>\n",
       "      <td>371</td>\n",
       "      <td>1990-91</td>\n",
       "      <td>00</td>\n",
       "      <td>1610612743</td>\n",
       "      <td>DEN</td>\n",
       "      <td>23.0</td>\n",
       "      <td>17</td>\n",
       "      <td>0</td>\n",
       "      <td>279.0</td>\n",
       "      <td>56</td>\n",
       "      <td>...</td>\n",
       "      <td>1520</td>\n",
       "      <td>2530</td>\n",
       "      <td>4050</td>\n",
       "      <td>2005</td>\n",
       "      <td>2235</td>\n",
       "      <td>856</td>\n",
       "      <td>1332</td>\n",
       "      <td>406</td>\n",
       "      <td>9828</td>\n",
       "      <td>1</td>\n",
       "    </tr>\n",
       "    <tr>\n",
       "      <th>4</th>\n",
       "      <td>51</td>\n",
       "      <td>1991-92</td>\n",
       "      <td>00</td>\n",
       "      <td>1610612743</td>\n",
       "      <td>DEN</td>\n",
       "      <td>23.0</td>\n",
       "      <td>81</td>\n",
       "      <td>11</td>\n",
       "      <td>1538.0</td>\n",
       "      <td>356</td>\n",
       "      <td>...</td>\n",
       "      <td>1350</td>\n",
       "      <td>2352</td>\n",
       "      <td>3702</td>\n",
       "      <td>1553</td>\n",
       "      <td>1984</td>\n",
       "      <td>773</td>\n",
       "      <td>1447</td>\n",
       "      <td>461</td>\n",
       "      <td>8176</td>\n",
       "      <td>25</td>\n",
       "    </tr>\n",
       "    <tr>\n",
       "      <th>...</th>\n",
       "      <td>...</td>\n",
       "      <td>...</td>\n",
       "      <td>...</td>\n",
       "      <td>...</td>\n",
       "      <td>...</td>\n",
       "      <td>...</td>\n",
       "      <td>...</td>\n",
       "      <td>...</td>\n",
       "      <td>...</td>\n",
       "      <td>...</td>\n",
       "      <td>...</td>\n",
       "      <td>...</td>\n",
       "      <td>...</td>\n",
       "      <td>...</td>\n",
       "      <td>...</td>\n",
       "      <td>...</td>\n",
       "      <td>...</td>\n",
       "      <td>...</td>\n",
       "      <td>...</td>\n",
       "      <td>...</td>\n",
       "      <td>...</td>\n",
       "    </tr>\n",
       "    <tr>\n",
       "      <th>13704</th>\n",
       "      <td>788</td>\n",
       "      <td>1987-88</td>\n",
       "      <td>00</td>\n",
       "      <td>1610612737</td>\n",
       "      <td>ATL</td>\n",
       "      <td>25.0</td>\n",
       "      <td>75</td>\n",
       "      <td>55</td>\n",
       "      <td>2091.0</td>\n",
       "      <td>356</td>\n",
       "      <td>...</td>\n",
       "      <td>1228</td>\n",
       "      <td>2379</td>\n",
       "      <td>3607</td>\n",
       "      <td>2062</td>\n",
       "      <td>2050</td>\n",
       "      <td>635</td>\n",
       "      <td>1225</td>\n",
       "      <td>537</td>\n",
       "      <td>8844</td>\n",
       "      <td>13</td>\n",
       "    </tr>\n",
       "    <tr>\n",
       "      <th>13705</th>\n",
       "      <td>788</td>\n",
       "      <td>1989-90</td>\n",
       "      <td>00</td>\n",
       "      <td>1610612737</td>\n",
       "      <td>ATL</td>\n",
       "      <td>27.0</td>\n",
       "      <td>81</td>\n",
       "      <td>51</td>\n",
       "      <td>2273.0</td>\n",
       "      <td>418</td>\n",
       "      <td>...</td>\n",
       "      <td>1273</td>\n",
       "      <td>2187</td>\n",
       "      <td>3460</td>\n",
       "      <td>1820</td>\n",
       "      <td>1871</td>\n",
       "      <td>717</td>\n",
       "      <td>1270</td>\n",
       "      <td>353</td>\n",
       "      <td>8901</td>\n",
       "      <td>11</td>\n",
       "    </tr>\n",
       "    <tr>\n",
       "      <th>13706</th>\n",
       "      <td>788</td>\n",
       "      <td>1990-91</td>\n",
       "      <td>00</td>\n",
       "      <td>1610612737</td>\n",
       "      <td>ATL</td>\n",
       "      <td>28.0</td>\n",
       "      <td>80</td>\n",
       "      <td>80</td>\n",
       "      <td>2373.0</td>\n",
       "      <td>444</td>\n",
       "      <td>...</td>\n",
       "      <td>1235</td>\n",
       "      <td>2420</td>\n",
       "      <td>3655</td>\n",
       "      <td>1864</td>\n",
       "      <td>1768</td>\n",
       "      <td>729</td>\n",
       "      <td>1231</td>\n",
       "      <td>374</td>\n",
       "      <td>9003</td>\n",
       "      <td>8</td>\n",
       "    </tr>\n",
       "    <tr>\n",
       "      <th>13707</th>\n",
       "      <td>766</td>\n",
       "      <td>1986-87</td>\n",
       "      <td>00</td>\n",
       "      <td>1610612755</td>\n",
       "      <td>PHL</td>\n",
       "      <td>23.0</td>\n",
       "      <td>77</td>\n",
       "      <td>9</td>\n",
       "      <td>1612.0</td>\n",
       "      <td>259</td>\n",
       "      <td>...</td>\n",
       "      <td>1178</td>\n",
       "      <td>2327</td>\n",
       "      <td>3505</td>\n",
       "      <td>1943</td>\n",
       "      <td>1774</td>\n",
       "      <td>768</td>\n",
       "      <td>1519</td>\n",
       "      <td>540</td>\n",
       "      <td>8729</td>\n",
       "      <td>17</td>\n",
       "    </tr>\n",
       "    <tr>\n",
       "      <th>13708</th>\n",
       "      <td>766</td>\n",
       "      <td>1987-88</td>\n",
       "      <td>00</td>\n",
       "      <td>1610612755</td>\n",
       "      <td>PHL</td>\n",
       "      <td>24.0</td>\n",
       "      <td>61</td>\n",
       "      <td>22</td>\n",
       "      <td>1419.0</td>\n",
       "      <td>218</td>\n",
       "      <td>...</td>\n",
       "      <td>1219</td>\n",
       "      <td>2307</td>\n",
       "      <td>3526</td>\n",
       "      <td>1897</td>\n",
       "      <td>1866</td>\n",
       "      <td>672</td>\n",
       "      <td>1433</td>\n",
       "      <td>465</td>\n",
       "      <td>8667</td>\n",
       "      <td>16</td>\n",
       "    </tr>\n",
       "  </tbody>\n",
       "</table>\n",
       "<p>13709 rows × 59 columns</p>\n",
       "</div>"
      ],
      "text/plain": [
       "      PLAYER_ID SEASON_ID LEAGUE_ID     TEAM_ID TEAM_ABBREVIATION  PLAYER_AGE  \\\n",
       "0            51   1990-91        00  1610612743               DEN        22.0   \n",
       "1           422   1990-91        00  1610612743               DEN        26.0   \n",
       "2           193   1990-91        00  1610612743               DEN        24.0   \n",
       "3           371   1990-91        00  1610612743               DEN        23.0   \n",
       "4            51   1991-92        00  1610612743               DEN        23.0   \n",
       "...         ...       ...       ...         ...               ...         ...   \n",
       "13704       788   1987-88        00  1610612737               ATL        25.0   \n",
       "13705       788   1989-90        00  1610612737               ATL        27.0   \n",
       "13706       788   1990-91        00  1610612737               ATL        28.0   \n",
       "13707       766   1986-87        00  1610612755               PHL        23.0   \n",
       "13708       766   1987-88        00  1610612755               PHL        24.0   \n",
       "\n",
       "      GP_player  GS     MIN FGM_player  ... OREB_team  DREB_team REB_team  \\\n",
       "0            67  19  1505.0        417  ...      1520       2530     4050   \n",
       "1            21   4   217.0         29  ...      1520       2530     4050   \n",
       "2             3   0    21.0          2  ...      1520       2530     4050   \n",
       "3            17   0   279.0         56  ...      1520       2530     4050   \n",
       "4            81  11  1538.0        356  ...      1350       2352     3702   \n",
       "...         ...  ..     ...        ...  ...       ...        ...      ...   \n",
       "13704        75  55  2091.0        356  ...      1228       2379     3607   \n",
       "13705        81  51  2273.0        418  ...      1273       2187     3460   \n",
       "13706        80  80  2373.0        444  ...      1235       2420     3655   \n",
       "13707        77   9  1612.0        259  ...      1178       2327     3505   \n",
       "13708        61  22  1419.0        218  ...      1219       2307     3526   \n",
       "\n",
       "      AST_team  PF_team STL_team TOV_team  BLK_team PTS_team PTS_RANK  \n",
       "0         2005     2235      856     1332       406     9828        1  \n",
       "1         2005     2235      856     1332       406     9828        1  \n",
       "2         2005     2235      856     1332       406     9828        1  \n",
       "3         2005     2235      856     1332       406     9828        1  \n",
       "4         1553     1984      773     1447       461     8176       25  \n",
       "...        ...      ...      ...      ...       ...      ...      ...  \n",
       "13704     2062     2050      635     1225       537     8844       13  \n",
       "13705     1820     1871      717     1270       353     8901       11  \n",
       "13706     1864     1768      729     1231       374     9003        8  \n",
       "13707     1943     1774      768     1519       540     8729       17  \n",
       "13708     1897     1866      672     1433       465     8667       16  \n",
       "\n",
       "[13709 rows x 59 columns]"
      ]
     },
     "execution_count": 312,
     "metadata": {},
     "output_type": "execute_result"
    }
   ],
   "source": [
    "players_teams"
   ]
  },
  {
   "cell_type": "code",
   "execution_count": null,
   "metadata": {},
   "outputs": [],
   "source": [
    "# creating count of 'player of the week' & 'player of the month'  \n",
    "week = players_awards[players_awards['DESCRIPTION']=='NBA Player of the Week'].groupby(['PERSON_ID','SEASON'])\n",
    "month = players_awards[players_awards['DESCRIPTION']=='NBA Player of the Month'].groupby(['PERSON_ID','SEASON'])\n",
    "rockie = players_awards[players_awards['DESCRIPTION']=='NBA Rookie of the Month'].groupby(['PERSON_ID','SEASON'])\n",
    "player_of_week = []\n",
    "player_of_month = []\n",
    "rockie_of_month = []\n",
    "for i in tqdm(range(len(players_teams))):\n",
    "\n",
    "    player_id = players_teams.loc[i,'PLAYER_ID']\n",
    "    season_id = players_teams.loc[i,'SEASON_ID']\n",
    "    try:\n",
    "        player_of_month.append(month.get_group((player_id,season_id))['PERSON_ID'].count())\n",
    "    except:\n",
    "        player_of_month.append(0)\n",
    "    \n",
    "    try:\n",
    "        player_of_week.append(week.get_group((player_id,season_id))['PERSON_ID'].count())\n",
    "    except:\n",
    "        player_of_week.append(0)\n",
    "        \n",
    "    try:\n",
    "        rockie_of_month.append(rockie.get_group((player_id,season_id))['PERSON_ID'].count())\n",
    "    except:\n",
    "        rockie_of_month.append(0)"
   ]
  },
  {
   "cell_type": "code",
   "execution_count": null,
   "metadata": {},
   "outputs": [],
   "source": [
    "players_teams['player_of_week'] = player_of_week\n",
    "players_teams['player_of_month'] = player_of_month\n",
    "players_teams['rockie_of_month'] = rockie_of_month"
   ]
  },
  {
   "cell_type": "code",
   "execution_count": null,
   "metadata": {},
   "outputs": [],
   "source": [
    "mvp = players_awards[players_awards['DESCRIPTION']=='NBA Most Valuable Player'].rename(columns={\"PERSON_ID\":\"PLAYER_ID\",\"SEASON\":\"SEASON_ID\",\"TYPE\":\"MVP\"})"
   ]
  },
  {
   "cell_type": "code",
   "execution_count": null,
   "metadata": {},
   "outputs": [],
   "source": [
    "df= players_teams.merge(mvp.loc[:,[\"PLAYER_ID\",\"SEASON_ID\",\"MVP\"]],how=\"left\",on=[\"PLAYER_ID\",\"SEASON_ID\"])"
   ]
  },
  {
   "cell_type": "code",
   "execution_count": null,
   "metadata": {},
   "outputs": [],
   "source": [
    "with open(\"df.pkl\",'wb') as f:\n",
    "    pickle.dump(df,f)"
   ]
  },
  {
   "cell_type": "code",
   "execution_count": null,
   "metadata": {},
   "outputs": [],
   "source": []
  },
  {
   "cell_type": "markdown",
   "metadata": {},
   "source": [
    "## Preprocessing"
   ]
  },
  {
   "cell_type": "markdown",
   "metadata": {},
   "source": [
    "- Drop Columns: Drop ID columns and some playoff stats since they are not the features that used to determine a regular season mvp.\n",
    "- Standarization: Standardrized based on data within the same season"
   ]
  },
  {
   "cell_type": "code",
   "execution_count": 298,
   "metadata": {},
   "outputs": [],
   "source": [
    "df = pd.read_pickle(\"df.pkl\")"
   ]
  },
  {
   "cell_type": "code",
   "execution_count": 299,
   "metadata": {},
   "outputs": [
    {
     "data": {
      "text/plain": [
       "Index(['PLAYER_ID', 'SEASON_ID', 'LEAGUE_ID', 'TEAM_ID', 'TEAM_ABBREVIATION',\n",
       "       'PLAYER_AGE', 'GP_player', 'GS', 'MIN', 'FGM_player', 'FGA_player',\n",
       "       'FG_PCT_player', 'FG3M_player', 'FG3A_player', 'FG3_PCT_player',\n",
       "       'FTM_player', 'FTA_player', 'FT_PCT_player', 'OREB_player',\n",
       "       'DREB_player', 'REB_player', 'AST_player', 'STL_player', 'BLK_player',\n",
       "       'TOV_player', 'PF_player', 'PTS_player', 'TEAM_CITY', 'TEAM_NAME',\n",
       "       'GP_team', 'WINS', 'LOSSES', 'WIN_PCT', 'CONF_RANK', 'DIV_RANK',\n",
       "       'PO_WINS', 'PO_LOSSES', 'CONF_COUNT', 'DIV_COUNT',\n",
       "       'NBA_FINALS_APPEARANCE', 'FGM_team', 'FGA_team', 'FG_PCT_team',\n",
       "       'FG3M_team', 'FG3A_team', 'FG3_PCT_team', 'FTM_team', 'FTA_team',\n",
       "       'FT_PCT_team', 'OREB_team', 'DREB_team', 'REB_team', 'AST_team',\n",
       "       'PF_team', 'STL_team', 'TOV_team', 'BLK_team', 'PTS_team', 'PTS_RANK',\n",
       "       'player_of_week', 'player_of_month', 'rockie_of_month', 'MVP',\n",
       "       'NBA_1_team', 'NBA_2_team', 'def_1_team', 'def_2_team', 'Def_player',\n",
       "       'Six_player', 'Improve_player'],\n",
       "      dtype='object')"
      ]
     },
     "execution_count": 299,
     "metadata": {},
     "output_type": "execute_result"
    }
   ],
   "source": [
    "df.columns"
   ]
  },
  {
   "cell_type": "code",
   "execution_count": 301,
   "metadata": {},
   "outputs": [],
   "source": [
    "df.drop(columns=[\"LEAGUE_ID\",\"TEAM_ID\",\"TEAM_ABBREVIATION\",\"TEAM_CITY\",\"TEAM_NAME\",\"GP_team\",\"PO_WINS\",\"PO_LOSSES\",\"CONF_COUNT\",\"DIV_COUNT\",\"NBA_FINALS_APPEARANCE\"],inplace=True)"
   ]
  },
  {
   "cell_type": "code",
   "execution_count": 302,
   "metadata": {},
   "outputs": [],
   "source": [
    "df['SEASON_ID'] = df['SEASON_ID'].map(lambda x: int(x.split(\"-\",1)[0]))"
   ]
  },
  {
   "cell_type": "code",
   "execution_count": 303,
   "metadata": {},
   "outputs": [],
   "source": [
    "num_cols = ['PLAYER_AGE','GP_player', 'GS', 'MIN', 'FGM_player', 'FGA_player', 'FG_PCT_player',\n",
    "       'FG3M_player', 'FG3A_player', 'FG3_PCT_player', 'FTM_player',\n",
    "       'FTA_player', 'FT_PCT_player', 'OREB_player', 'DREB_player',\n",
    "       'REB_player', 'AST_player', 'STL_player', 'BLK_player', 'TOV_player',\n",
    "       'PF_player', 'PTS_player', 'WINS', 'LOSSES', 'WIN_PCT', 'FGM_team', 'FGA_team', 'FG_PCT_team', 'FG3M_team',\n",
    "       'FG3A_team', 'FG3_PCT_team', 'FTM_team', 'FTA_team', 'FT_PCT_team',\n",
    "       'OREB_team', 'DREB_team', 'REB_team', 'AST_team', 'PF_team', 'STL_team',\n",
    "       'TOV_team', 'BLK_team', 'PTS_team','player_of_week', 'player_of_month']"
   ]
  },
  {
   "cell_type": "code",
   "execution_count": 304,
   "metadata": {},
   "outputs": [],
   "source": [
    "rank_cols = ['DIV_RANK','PTS_RANK']"
   ]
  },
  {
   "cell_type": "code",
   "execution_count": 305,
   "metadata": {},
   "outputs": [],
   "source": [
    "#df.drop(columns=rank_cols,inplace =True)"
   ]
  },
  {
   "cell_type": "code",
   "execution_count": 306,
   "metadata": {},
   "outputs": [],
   "source": [
    "# standarize data season by season\n",
    "scaler = MinMaxScaler()\n",
    "for year in  df[\"SEASON_ID\"].unique().tolist():\n",
    "    for col in num_cols:\n",
    "        df.loc[df['SEASON_ID']==year, col] = scaler.fit_transform(df.loc[df['SEASON_ID']==year, col].to_numpy().reshape(-1,1))"
   ]
  },
  {
   "cell_type": "code",
   "execution_count": 307,
   "metadata": {},
   "outputs": [],
   "source": [
    "train = df.loc[(df['SEASON_ID']>=2000)&(df['SEASON_ID']<=2019),:]\n",
    "valid = df.loc[(df['SEASON_ID']==2020),:]"
   ]
  },
  {
   "cell_type": "code",
   "execution_count": 250,
   "metadata": {},
   "outputs": [],
   "source": [
    "y = train['MVP']\n",
    "X = train.iloc[:,:-1]\n",
    "\n",
    "y_valid = valid['MVP']\n",
    "X_valid = valid.iloc[:,:-1]"
   ]
  },
  {
   "cell_type": "markdown",
   "metadata": {},
   "source": [
    "## Feature importance "
   ]
  },
  {
   "cell_type": "markdown",
   "metadata": {},
   "source": [
    "### Correlation heatmap\n",
    "- target versus features have largest correlations"
   ]
  },
  {
   "cell_type": "code",
   "execution_count": 252,
   "metadata": {},
   "outputs": [
    {
     "data": {
      "image/png": "[encoded data removed]",
      "text/plain": [
       "<Figure size 432x288 with 2 Axes>"
      ]
     },
     "metadata": {},
     "output_type": "display_data"
    }
   ],
   "source": [
    "corrmat = df.corr()\n",
    "\n",
    "k = 10 # show top k most correlated features\n",
    "cols = corrmat.nlargest(k, 'MVP')['MVP'].index\n",
    "cm = np.corrcoef(df[cols].values.T)\n",
    "sns.set(font_scale=1.0)\n",
    "hm = sns.heatmap(cm, cbar=True, annot=True, square=True, fmt='.2f', annot_kws={'size': 8}, yticklabels=cols.values, xticklabels=cols.values)\n",
    "plt.show()"
   ]
  },
  {
   "cell_type": "markdown",
   "metadata": {},
   "source": [
    "### F-test\n",
    "- Test on univariate feature and calculate its p-value, of course value <=0.05 can be considered as significant "
   ]
  },
  {
   "cell_type": "code",
   "execution_count": 280,
   "metadata": {},
   "outputs": [],
   "source": [
    "from sklearn.feature_selection import SelectKBest\n",
    "from sklearn.feature_selection import f_classif,chi2\n",
    "\n",
    "f, p_v = f_classif(X,y)"
   ]
  },
  {
   "cell_type": "code",
   "execution_count": 281,
   "metadata": {},
   "outputs": [
    {
     "data": {
      "text/html": [
       "<div>\n",
       "<style scoped>\n",
       "    .dataframe tbody tr th:only-of-type {\n",
       "        vertical-align: middle;\n",
       "    }\n",
       "\n",
       "    .dataframe tbody tr th {\n",
       "        vertical-align: top;\n",
       "    }\n",
       "\n",
       "    .dataframe thead th {\n",
       "        text-align: right;\n",
       "    }\n",
       "</style>\n",
       "<table border=\"1\" class=\"dataframe\">\n",
       "  <thead>\n",
       "    <tr style=\"text-align: right;\">\n",
       "      <th></th>\n",
       "      <th>p_value</th>\n",
       "    </tr>\n",
       "  </thead>\n",
       "  <tbody>\n",
       "    <tr>\n",
       "      <th>player_of_month</th>\n",
       "      <td>0.000000e+00</td>\n",
       "    </tr>\n",
       "    <tr>\n",
       "      <th>player_of_week</th>\n",
       "      <td>0.000000e+00</td>\n",
       "    </tr>\n",
       "    <tr>\n",
       "      <th>FTM_player</th>\n",
       "      <td>3.460689e-69</td>\n",
       "    </tr>\n",
       "    <tr>\n",
       "      <th>FTA_player</th>\n",
       "      <td>1.959209e-64</td>\n",
       "    </tr>\n",
       "    <tr>\n",
       "      <th>PTS_player</th>\n",
       "      <td>6.531218e-55</td>\n",
       "    </tr>\n",
       "  </tbody>\n",
       "</table>\n",
       "</div>"
      ],
      "text/plain": [
       "                      p_value\n",
       "player_of_month  0.000000e+00\n",
       "player_of_week   0.000000e+00\n",
       "FTM_player       3.460689e-69\n",
       "FTA_player       1.959209e-64\n",
       "PTS_player       6.531218e-55"
      ]
     },
     "execution_count": 281,
     "metadata": {},
     "output_type": "execute_result"
    }
   ],
   "source": [
    "p_values = pd.DataFrame(p_v,index=X.columns.tolist(),columns=['p_value'])\n",
    "\n",
    "p_values.sort_values(by='p_value',ascending=True,inplace=True)\n",
    "\n",
    "p_values.head()"
   ]
  },
  {
   "cell_type": "markdown",
   "metadata": {},
   "source": [
    "### Chi2 Test\n",
    "- Since 'player of week' and 'player of month' are frequncy data, using chi2 test may be more resonable"
   ]
  },
  {
   "cell_type": "code",
   "execution_count": 256,
   "metadata": {},
   "outputs": [],
   "source": [
    "chi,p_v = chi2(X.loc[:,['player_of_week','player_of_month']],y)"
   ]
  },
  {
   "cell_type": "code",
   "execution_count": 257,
   "metadata": {},
   "outputs": [],
   "source": [
    "p_values = pd.DataFrame(p_v,index=['player_of_week','player_of_month'],columns=['p_value'])\n",
    "\n",
    "p_values.sort_values(by='p_value',ascending=True,inplace=True)"
   ]
  },
  {
   "cell_type": "code",
   "execution_count": 258,
   "metadata": {},
   "outputs": [
    {
     "data": {
      "text/html": [
       "<div>\n",
       "<style scoped>\n",
       "    .dataframe tbody tr th:only-of-type {\n",
       "        vertical-align: middle;\n",
       "    }\n",
       "\n",
       "    .dataframe tbody tr th {\n",
       "        vertical-align: top;\n",
       "    }\n",
       "\n",
       "    .dataframe thead th {\n",
       "        text-align: right;\n",
       "    }\n",
       "</style>\n",
       "<table border=\"1\" class=\"dataframe\">\n",
       "  <thead>\n",
       "    <tr style=\"text-align: right;\">\n",
       "      <th></th>\n",
       "      <th>p_value</th>\n",
       "    </tr>\n",
       "  </thead>\n",
       "  <tbody>\n",
       "    <tr>\n",
       "      <th>player_of_month</th>\n",
       "      <td>3.092322e-262</td>\n",
       "    </tr>\n",
       "    <tr>\n",
       "      <th>player_of_week</th>\n",
       "      <td>6.239672e-177</td>\n",
       "    </tr>\n",
       "  </tbody>\n",
       "</table>\n",
       "</div>"
      ],
      "text/plain": [
       "                       p_value\n",
       "player_of_month  3.092322e-262\n",
       "player_of_week   6.239672e-177"
      ]
     },
     "execution_count": 258,
     "metadata": {},
     "output_type": "execute_result"
    }
   ],
   "source": [
    "p_values"
   ]
  },
  {
   "cell_type": "markdown",
   "metadata": {},
   "source": [
    "### Recursive selection\n",
    "- Feature importance by random forest"
   ]
  },
  {
   "cell_type": "code",
   "execution_count": 259,
   "metadata": {},
   "outputs": [],
   "source": [
    "rf = RandomForestClassifier(max_features=10,random_state=42)\n",
    "rf.fit(X,y)\n",
    "importance = pd.DataFrame(rf.feature_importances_,index=X.columns.tolist(),columns=['importance']).sort_values(by='importance',ascending=False)"
   ]
  },
  {
   "cell_type": "code",
   "execution_count": 260,
   "metadata": {},
   "outputs": [
    {
     "data": {
      "text/plain": [
       "<matplotlib.axes._subplots.AxesSubplot at 0x7fa9c594c150>"
      ]
     },
     "execution_count": 260,
     "metadata": {},
     "output_type": "execute_result"
    },
    {
     "data": {
      "image/png": "[encoded data removed]",
      "text/plain": [
       "<Figure size 432x288 with 1 Axes>"
      ]
     },
     "metadata": {},
     "output_type": "display_data"
    }
   ],
   "source": [
    "importance.head(10).plot(kind='bar')"
   ]
  },
  {
   "cell_type": "markdown",
   "metadata": {},
   "source": [
    "## Modeling"
   ]
  },
  {
   "cell_type": "code",
   "execution_count": 263,
   "metadata": {},
   "outputs": [],
   "source": [
    "from sklearn.ensemble import RandomForestClassifier\n",
    "model = RandomForestClassifier(random_state=42,class_weight=\"balanced\",max_depth=5,criterion='entropy',max_features='auto',n_estimators=500)\n",
    "clf = Pipeline([(\"rf\",model)])"
   ]
  },
  {
   "cell_type": "code",
   "execution_count": 264,
   "metadata": {},
   "outputs": [],
   "source": [
    "from sklearn.model_selection import cross_val_score\n",
    "from sklearn.model_selection import RepeatedStratifiedKFold,StratifiedKFold\n",
    "from sklearn.metrics import classification_report,accuracy_score,precision_score, recall_score,roc_auc_score, f1_score,plot_confusion_matrix, plot_roc_curve,plot_precision_recall_curve"
   ]
  },
  {
   "cell_type": "code",
   "execution_count": 265,
   "metadata": {},
   "outputs": [],
   "source": [
    "cv = RepeatedStratifiedKFold(n_splits=10, n_repeats=3, random_state=42)\n",
    "scores = cross_val_score(clf, X, y, scoring='roc_auc', cv=cv, n_jobs=-1)"
   ]
  },
  {
   "cell_type": "code",
   "execution_count": 266,
   "metadata": {},
   "outputs": [
    {
     "name": "stdout",
     "output_type": "stream",
     "text": [
      "=====cv score=====\n",
      "roc_auc_avg:0.997\n",
      "roc_auc_std:0.003\n"
     ]
    }
   ],
   "source": [
    "print(\"=====cv score=====\")\n",
    "print(\"roc_auc_avg:{:.3f}\".format(np.mean(scores)))\n",
    "print(\"roc_auc_std:{:.3f}\".format(np.std(scores)))"
   ]
  },
  {
   "cell_type": "code",
   "execution_count": 267,
   "metadata": {},
   "outputs": [
    {
     "data": {
      "text/plain": [
       "RandomForestClassifier(class_weight='balanced', criterion='entropy',\n",
       "                       max_depth=5, n_estimators=500, random_state=42)"
      ]
     },
     "execution_count": 267,
     "metadata": {},
     "output_type": "execute_result"
    }
   ],
   "source": [
    "model.fit(X,y)"
   ]
  },
  {
   "cell_type": "code",
   "execution_count": 268,
   "metadata": {},
   "outputs": [],
   "source": [
    "# fit to validation set\n",
    "result = pd.DataFrame(model.predict_proba(X_valid),index = X_valid.PLAYER_ID)\n",
    "\n",
    "result.rename(columns={0:'not',1:'mvp'},inplace=True)\n",
    "\n",
    "result['y/n'] = model.predict(X_valid)"
   ]
  },
  {
   "cell_type": "code",
   "execution_count": 269,
   "metadata": {},
   "outputs": [],
   "source": [
    "mvp_candidates = result.sort_values(by='mvp',ascending=False)"
   ]
  },
  {
   "cell_type": "code",
   "execution_count": 270,
   "metadata": {},
   "outputs": [],
   "source": [
    "mvp_candidates.reset_index(inplace=True)"
   ]
  },
  {
   "cell_type": "code",
   "execution_count": 271,
   "metadata": {},
   "outputs": [],
   "source": [
    "mvp_candidates.drop(columns=['not'],inplace=True)"
   ]
  },
  {
   "cell_type": "code",
   "execution_count": 272,
   "metadata": {},
   "outputs": [
    {
     "name": "stdout",
     "output_type": "stream",
     "text": [
      "Number of players fetched: 4501\n"
     ]
    }
   ],
   "source": [
    "from nba_api.stats.static import players\n",
    "# get_players returns a list of dictionaries, each representing a player.\n",
    "nba_players = players.get_players()\n",
    "print('Number of players fetched: {}'.format(len(nba_players)))"
   ]
  },
  {
   "cell_type": "code",
   "execution_count": 273,
   "metadata": {},
   "outputs": [],
   "source": [
    "nba_players = pd.DataFrame(nba_players)"
   ]
  },
  {
   "cell_type": "code",
   "execution_count": 274,
   "metadata": {},
   "outputs": [],
   "source": [
    "nba_players.rename(columns={\"id\":\"PLAYER_ID\"},inplace = True)"
   ]
  },
  {
   "cell_type": "code",
   "execution_count": 275,
   "metadata": {},
   "outputs": [],
   "source": [
    "mvp_candidates = mvp_candidates.merge(nba_players,on='PLAYER_ID',how='left')"
   ]
  },
  {
   "cell_type": "markdown",
   "metadata": {},
   "source": [
    "### Hyperparameter tunging"
   ]
  },
  {
   "cell_type": "code",
   "execution_count": null,
   "metadata": {},
   "outputs": [],
   "source": [
    "from sklearn.model_selection import GridSearchCV"
   ]
  },
  {
   "cell_type": "code",
   "execution_count": 277,
   "metadata": {},
   "outputs": [],
   "source": [
    "params = {\n",
    "    'rf__n_estimators' : [500, 800],\n",
    "    'rf__criterion':['gini','entropy'],\n",
    "    'rf__max_features':[\"auto\",\"sqrt\",\"log2\"],\n",
    "    'rf__max_depth':[None,5,8,10,20]\n",
    "    \n",
    "}"
   ]
  },
  {
   "cell_type": "code",
   "execution_count": 278,
   "metadata": {},
   "outputs": [],
   "source": [
    "cv = StratifiedKFold(n_splits=10)\n",
    "search = GridSearchCV(estimator=clf,scoring='roc_auc',cv=cv,param_grid=params,n_jobs=2,verbose=3)"
   ]
  },
  {
   "cell_type": "code",
   "execution_count": null,
   "metadata": {},
   "outputs": [],
   "source": [
    "search.fit(X,y)"
   ]
  },
  {
   "cell_type": "code",
   "execution_count": 61,
   "metadata": {},
   "outputs": [
    {
     "data": {
      "text/plain": [
       "{'rf__criterion': 'entropy',\n",
       " 'rf__max_depth': 5,\n",
       " 'rf__max_features': 'auto',\n",
       " 'rf__n_estimators': 500}"
      ]
     },
     "execution_count": 61,
     "metadata": {},
     "output_type": "execute_result"
    }
   ],
   "source": [
    "search.best_params_"
   ]
  },
  {
   "cell_type": "code",
   "execution_count": 62,
   "metadata": {},
   "outputs": [
    {
     "data": {
      "text/plain": [
       "0.9964562905762293"
      ]
     },
     "execution_count": 62,
     "metadata": {},
     "output_type": "execute_result"
    }
   ],
   "source": [
    "search.best_score_"
   ]
  },
  {
   "cell_type": "code",
   "execution_count": 63,
   "metadata": {},
   "outputs": [
    {
     "data": {
      "text/plain": [
       "Pipeline(steps=[('pre',\n",
       "                 ColumnTransformer(remainder='passthrough',\n",
       "                                   transformers=[('num',\n",
       "                                                  Pipeline(steps=[('scaler',\n",
       "                                                                   MinMaxScaler())]),\n",
       "                                                  ['PLAYER_AGE', 'GP_player',\n",
       "                                                   'GS', 'MIN', 'FGM_player',\n",
       "                                                   'FGA_player',\n",
       "                                                   'FG_PCT_player',\n",
       "                                                   'FG3M_player', 'FG3A_player',\n",
       "                                                   'FG3_PCT_player',\n",
       "                                                   'FTM_player', 'FTA_player',\n",
       "                                                   'FT_PCT_player',\n",
       "                                                   'OREB_player', 'DREB_player',\n",
       "                                                   'REB_player', 'AST_player',\n",
       "                                                   'STL_player', 'BLK_player',\n",
       "                                                   'TOV_player', 'PF_player',\n",
       "                                                   'PTS_player', 'WINS',\n",
       "                                                   'LOSSES', 'WIN_PCT',\n",
       "                                                   'FGM_team', 'FGA_team',\n",
       "                                                   'FG_PCT_team', 'FG3M_team',\n",
       "                                                   'FG3A_team', ...]),\n",
       "                                                 ('rank',\n",
       "                                                  Pipeline(steps=[('ordinal',\n",
       "                                                                   OrdinalEncoder())]),\n",
       "                                                  ['CONF_RANK', 'DIV_RANK',\n",
       "                                                   'PTS_RANK'])])),\n",
       "                ('rf',\n",
       "                 RandomForestClassifier(class_weight='balanced',\n",
       "                                        criterion='entropy', max_depth=5,\n",
       "                                        n_estimators=500, random_state=42))])"
      ]
     },
     "execution_count": 63,
     "metadata": {},
     "output_type": "execute_result"
    }
   ],
   "source": [
    "search.best_estimator_"
   ]
  },
  {
   "cell_type": "code",
   "execution_count": null,
   "metadata": {},
   "outputs": [],
   "source": []
  },
  {
   "cell_type": "code",
   "execution_count": null,
   "metadata": {},
   "outputs": [],
   "source": []
  },
  {
   "cell_type": "code",
   "execution_count": null,
   "metadata": {},
   "outputs": [],
   "source": []
  },
  {
   "cell_type": "code",
   "execution_count": null,
   "metadata": {},
   "outputs": [],
   "source": []
  },
  {
   "cell_type": "code",
   "execution_count": null,
   "metadata": {},
   "outputs": [],
   "source": []
  },
  {
   "cell_type": "code",
   "execution_count": null,
   "metadata": {},
   "outputs": [],
   "source": []
  },
  {
   "cell_type": "code",
   "execution_count": null,
   "metadata": {},
   "outputs": [],
   "source": []
  }
 ],
 "metadata": {
  "kernelspec": {
   "display_name": "Python 3",
   "language": "python",
   "name": "python3"
  },
  "language_info": {
   "codemirror_mode": {
    "name": "ipython",
    "version": 3
   },
   "file_extension": ".py",
   "mimetype": "text/x-python",
   "name": "python",
   "nbconvert_exporter": "python",
   "pygments_lexer": "ipython3",
   "version": "3.7.4"
  }
 },
 "nbformat": 4,
 "nbformat_minor": 4
}
